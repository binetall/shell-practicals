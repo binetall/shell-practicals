{
 "cells": [
  {
   "cell_type": "markdown",
   "id": "9c8f6fb6",
   "metadata": {},
   "source": [
    "## BINETOU LO"
   ]
  },
  {
   "cell_type": "markdown",
   "id": "3470f0c8",
   "metadata": {},
   "source": [
    "## 1 Summations and Products|"
   ]
  },
  {
   "cell_type": "markdown",
   "id": "8ff0d127",
   "metadata": {},
   "source": [
    "1. Compute the following expressions for a natural number n chosen by the user:"
   ]
  },
  {
   "cell_type": "code",
   "execution_count": 16,
   "id": "8827b6ab",
   "metadata": {},
   "outputs": [
    {
     "name": "stdout",
     "output_type": "stream",
     "text": [
      "donner une valeur 12\n",
      "54\n"
     ]
    }
   ],
   "source": [
    "n=int(input(\"donner une valeur \",  ))\n",
    "so=0\n",
    "for i in range(0,n):\n",
    "    if i%2!=0:\n",
    "        so=so+i+3\n",
    "print(so)\n",
    "        "
   ]
  },
  {
   "cell_type": "code",
   "execution_count": 17,
   "id": "fb7e7aa2",
   "metadata": {},
   "outputs": [
    {
     "name": "stdout",
     "output_type": "stream",
     "text": [
      "donner une valeur 12\n",
      "135135\n"
     ]
    }
   ],
   "source": [
    "m=int(input(\"donner une valeur \"))\n",
    "p=1\n",
    "for i in range(0,m):\n",
    "    if i%2==0:\n",
    "        p=p*(i+3)\n",
    "print(p)        "
   ]
  },
  {
   "cell_type": "markdown",
   "id": "eb5ef8e9",
   "metadata": {},
   "source": [
    "2. Write a program that reads the number of the day of the week (from 0 to 6). If it is a\n",
    "working day, then the program will write the name of the corresponding day. Otherwise,\n",
    "it will write the word \"Weekend\"."
   ]
  },
  {
   "cell_type": "code",
   "execution_count": 18,
   "id": "54a4474b",
   "metadata": {},
   "outputs": [
    {
     "name": "stdout",
     "output_type": "stream",
     "text": [
      "donner une valeur qui est entre 0 et 6: 4\n",
      "It is a working day,  Vendredi\n"
     ]
    }
   ],
   "source": [
    "jour=int(input(\"donner une valeur qui est entre 0 et 6: \"))\n",
    "day=[\"Lundi\", \"Mardi\", \"Mercredi\", \"Jeudi\", \"Vendredi\", \"Samedi\", \"Dimanche\"]\n",
    "if (jour<=4):\n",
    "    print('It is a working day, ', day[jour])\n",
    "elif (jour<=6):\n",
    "    print(\"weekend\")"
   ]
  },
  {
   "cell_type": "markdown",
   "id": "e202ec2c",
   "metadata": {},
   "source": [
    "3-Make a program that, given a month number (from 0 to 11), indicates how many days it has (28, 30 or 31), ignoring the leap years."
   ]
  },
  {
   "cell_type": "code",
   "execution_count": 19,
   "id": "770be9cf",
   "metadata": {},
   "outputs": [
    {
     "name": "stdout",
     "output_type": "stream",
     "text": [
      "Please give a number corresponding to one month :5\n",
      "le mois  Juin a 30 jours\n"
     ]
    }
   ],
   "source": [
    "m=int(input('Please give a number corresponding to one month :'))\n",
    "mois=['Janvier', 'Fevrier', 'Mars', 'Avril', 'Mai', 'Juin', 'Juillet', 'Aout', 'Septembre', 'Octobre', 'Novembre', 'Decembre']\n",
    "if (m==1):\n",
    "    print('le mois ',mois[m], 'a 28 jours')\n",
    "elif (m==3) or (m==5) or (m==8) or (m==10):\n",
    "    print('le mois ',mois[m], 'a 30 jours')\n",
    "elif (m==0) or (m==2) or (m==4) or (m==6) or (m==7) or (m==9) or (m==11):\n",
    "    print('le mois ', mois[m], 'a 31 jours')"
   ]
  },
  {
   "cell_type": "markdown",
   "id": "58886c21",
   "metadata": {},
   "source": [
    "4-Write two versions of python code that displays your name 3 times. One version with a \"for loop\" and another version with a \"while loop\"."
   ]
  },
  {
   "cell_type": "code",
   "execution_count": 20,
   "id": "60ed0ef0",
   "metadata": {},
   "outputs": [
    {
     "name": "stdout",
     "output_type": "stream",
     "text": [
      "Binetou lo\n",
      "Binetou lo\n",
      "Binetou lo\n"
     ]
    }
   ],
   "source": [
    "for i in range(3):\n",
    "    print(\"Binetou lo\")"
   ]
  },
  {
   "cell_type": "code",
   "execution_count": 22,
   "id": "2e12f93c",
   "metadata": {},
   "outputs": [
    {
     "name": "stdout",
     "output_type": "stream",
     "text": [
      "Binetou Lo\n",
      "Binetou Lo\n",
      "Binetou Lo\n"
     ]
    }
   ],
   "source": [
    "i=1;\n",
    "while (i<=3):\n",
    "    print(\"Binetou Lo\")\n",
    "    i+=1"
   ]
  },
  {
   "cell_type": "markdown",
   "id": "04a32479",
   "metadata": {},
   "source": [
    "5-Given two numbers a 0 and a 1 , the Fibonacci sequence they generate is constructed from the recursion formula a n+1 = a n + a n−1 . Calculate the first 15 terms of a Fibonacci sequence, asking the user the initial values."
   ]
  },
  {
   "cell_type": "code",
   "execution_count": 23,
   "id": "64386c1d",
   "metadata": {},
   "outputs": [
    {
     "name": "stdout",
     "output_type": "stream",
     "text": [
      "Please enter the number of terms? 12\n",
      "Please enter the first initial value 1\n",
      "Please enter the second initial value 2\n",
      "The first 12 terms of a Fibonacci sequence are : \n",
      "1\n",
      "2\n",
      "3\n",
      "5\n",
      "8\n",
      "13\n",
      "21\n",
      "34\n",
      "55\n",
      "89\n",
      "144\n",
      "233\n"
     ]
    }
   ],
   "source": [
    "nbterms = int(input(\"Please enter the number of terms? \"))\n",
    "a0=int(input('Please enter the first initial value '))\n",
    "a1=int(input('Please enter the second initial value '))\n",
    "i = 0\n",
    "if nbterms <= 0:\n",
    "    print(\"Please enter a positive integer\")\n",
    "elif nbterms == 1:\n",
    "    print(\"Fibonacci sequence upto\",nbterms,\":\")\n",
    "    print(a0)\n",
    "else:\n",
    "    print(\"The first\", nbterms, \"terms of a Fibonacci sequence are : \")\n",
    "    while i < nbterms:\n",
    "        print(a0)\n",
    "        an = a0 + a1\n",
    "        a0 = a1\n",
    "        a1 = an\n",
    "        i += 1"
   ]
  },
  {
   "cell_type": "markdown",
   "id": "f7131c18",
   "metadata": {},
   "source": [
    "6-Compute the first 30 terms of the sequence defined by 2x n+2 − x n+1 − 6x n = 0 sequence, given any two initial values x 0 and x 1"
   ]
  },
  {
   "cell_type": "code",
   "execution_count": 1,
   "id": "02d815ab",
   "metadata": {},
   "outputs": [
    {
     "name": "stdout",
     "output_type": "stream",
     "text": [
      "Please enter the number of terms 12\n",
      "Please enter the first initial value 1\n",
      "Please enter the second initial value 0\n",
      "The first 12 terms the sequence are : \n",
      "1\n",
      "0\n",
      "3.0\n",
      "1.5\n",
      "9.75\n",
      "9.375\n",
      "33.9375\n",
      "45.09375\n",
      "124.359375\n",
      "197.4609375\n",
      "471.80859375\n",
      "828.287109375\n"
     ]
    }
   ],
   "source": [
    "nb = int(input(\"Please enter the number of terms \"))\n",
    "x0=int(input('Please enter the first initial value '))\n",
    "x1=int(input('Please enter the second initial value '))\n",
    "i = 0\n",
    "if nb <= 0:\n",
    "    print(\"Please enter a positive integer\")\n",
    "elif nb == 1:\n",
    "    print(\"The sequence upto\",nb,\":\")\n",
    "    print(x0)\n",
    "else:\n",
    "    print(\"The first\", nb, \"terms the sequence are : \")\n",
    "    while i < nb:\n",
    "        print(x0)\n",
    "        xn = (6*x0 + x1)/2\n",
    "        x0 = x1\n",
    "        x1 = xn\n",
    "        i += 1"
   ]
  },
  {
   "cell_type": "markdown",
   "id": "56503cc7",
   "metadata": {},
   "source": [
    "7. a) Write python code to determine whether or not a year is a leap year. Be sure you know what a leap year is."
   ]
  },
  {
   "cell_type": "code",
   "execution_count": 2,
   "id": "1063e2ae",
   "metadata": {},
   "outputs": [
    {
     "name": "stdout",
     "output_type": "stream",
     "text": [
      "Please enter the year to be checked: 2020\n",
      "This year is a leap year!\n"
     ]
    }
   ],
   "source": [
    "year=int(input(\"Please enter the year to be checked: \"))\n",
    "if(year%4==0 and year%100!=0 or year%400==0):\n",
    "    print(\"This year is a leap year!\")\n",
    "else:\n",
    "    print(\"This year isn't a leap year!\")"
   ]
  },
  {
   "cell_type": "markdown",
   "id": "6b2727ee",
   "metadata": {},
   "source": [
    "b) Write the code using only logical operators, i.e. no conditional branching.\n",
    "\n"
   ]
  },
  {
   "cell_type": "code",
   "execution_count": 3,
   "id": "23970394",
   "metadata": {},
   "outputs": [
    {
     "name": "stdout",
     "output_type": "stream",
     "text": [
      "Please enter the year to be checked : 2021\n",
      "2021 is a leap year? \n"
     ]
    },
    {
     "data": {
      "text/plain": [
       "False"
      ]
     },
     "execution_count": 3,
     "metadata": {},
     "output_type": "execute_result"
    }
   ],
   "source": [
    "year=int(input(\"Please enter the year to be checked : \"))\n",
    "print(year, \"is a leap year? \")\n",
    "year%4==0 and year%100!=0 or year%400==0"
   ]
  },
  {
   "cell_type": "markdown",
   "id": "2fae787a",
   "metadata": {},
   "source": [
    "8.\n",
    "a) Write python code that computes the sum of the square of the first n natural numbers."
   ]
  },
  {
   "cell_type": "markdown",
   "id": "bf0f5fb5",
   "metadata": {},
   "source": [
    "(ii) with a \"while loop\""
   ]
  },
  {
   "cell_type": "code",
   "execution_count": 4,
   "id": "a4754b70",
   "metadata": {},
   "outputs": [
    {
     "name": "stdout",
     "output_type": "stream",
     "text": [
      " Please enter a natural number n : 3\n",
      "The sum of the square of the first 3 natural numbers is 14\n"
     ]
    }
   ],
   "source": [
    "n = int(input(\" Please enter a natural number n : \"))\n",
    "i=0;\n",
    "nsum=0\n",
    "while (i<=n):\n",
    "    nsum=nsum+i**2\n",
    "    i=i+1\n",
    "print(\"The sum of the square of the first\", n, \"natural numbers is\", nsum)"
   ]
  },
  {
   "cell_type": "markdown",
   "id": "2c2a74d6",
   "metadata": {},
   "source": [
    "b) Write python code that prints, for a natural number M , the smallest natural number\n",
    "n such that $1^2 + 2^2 + · · · + n^2 ≥ M$. One version with a \"for loop\" and another version\n",
    "with a \"while loop\"."
   ]
  },
  {
   "cell_type": "markdown",
   "id": "d69a7f1d",
   "metadata": {},
   "source": [
    "i) With a \"for loop\""
   ]
  },
  {
   "cell_type": "code",
   "execution_count": 5,
   "id": "38f2a9ee",
   "metadata": {},
   "outputs": [
    {
     "name": "stdout",
     "output_type": "stream",
     "text": [
      "Please enter a natural number M : 5\n",
      "The smallest natural number M is  2\n"
     ]
    }
   ],
   "source": [
    "M = int(input(\"Please enter a natural number M : \"))\n",
    "s=0\n",
    "l=[]\n",
    "for i in range(1, M+1):\n",
    "    s=s+i**2\n",
    "    if M<=s:\n",
    "        l.append(i)\n",
    "print(\"The smallest natural number M is \", l[0])   "
   ]
  },
  {
   "cell_type": "markdown",
   "id": "816641c2",
   "metadata": {},
   "source": [
    "(ii) With a \"while loop\"."
   ]
  },
  {
   "cell_type": "code",
   "execution_count": 6,
   "id": "68b5b262",
   "metadata": {},
   "outputs": [
    {
     "name": "stdout",
     "output_type": "stream",
     "text": [
      "Please enter a natural number M : 31\n",
      "The smallest natural number n is 5\n"
     ]
    }
   ],
   "source": [
    "M = int(input(\"Please enter a natural number M : \"))\n",
    "s=0\n",
    "i=0\n",
    "while(i<=M):\n",
    "    s=s+i**2\n",
    "    if M<=s:\n",
    "        print(\"The smallest natural number n is\", i)\n",
    "        break\n",
    "    i+=1    "
   ]
  },
  {
   "cell_type": "markdown",
   "id": "d3245ed3",
   "metadata": {},
   "source": [
    "9.\n",
    "a) Write python code that prints all the divisors of a given natural number."
   ]
  },
  {
   "cell_type": "code",
   "execution_count": 7,
   "id": "711f633b",
   "metadata": {},
   "outputs": [
    {
     "name": "stdout",
     "output_type": "stream",
     "text": [
      " Please enter a natural number n : 5\n",
      "All the divisors of  5 are:\n",
      "1\n",
      "5\n"
     ]
    }
   ],
   "source": [
    "n = int(input(\" Please enter a natural number n : \"))\n",
    "print('All the divisors of ', n, 'are:')\n",
    "i=1\n",
    "while (i<=n):\n",
    "    if (n%i==0):\n",
    "        print(i)\n",
    "    i+=1"
   ]
  },
  {
   "cell_type": "markdown",
   "id": "1259e7da",
   "metadata": {},
   "source": [
    "b) Read an integer number input by the user and calculate its prime factors. This will\n",
    "just be some of its divisors."
   ]
  },
  {
   "cell_type": "code",
   "execution_count": 8,
   "id": "eb2f02c7",
   "metadata": {},
   "outputs": [
    {
     "name": "stdout",
     "output_type": "stream",
     "text": [
      "Please enter an integer number n: 12\n",
      "The prime factors of  12 are: \n",
      "2\n",
      "3\n"
     ]
    }
   ],
   "source": [
    "n= int(input(\"Please enter an integer number n: \"))\n",
    "print(\"The prime factors of \", n, \"are: \")\n",
    "i=1\n",
    "while (i<=n):\n",
    "    j=0\n",
    "    if (n%i==0):\n",
    "        k=1\n",
    "        while (k<=i):\n",
    "            if(i%k==0):\n",
    "                j=j+1\n",
    "            k=k+1\n",
    "        if (j==2):\n",
    "            print(i)\n",
    "    i=i+1       "
   ]
  },
  {
   "cell_type": "markdown",
   "id": "38764349",
   "metadata": {},
   "source": [
    "10. Read an integer number between n 0 and 9 and print its multiplication table up to N\n",
    "where N is another another natural number read by the program."
   ]
  },
  {
   "cell_type": "code",
   "execution_count": 9,
   "id": "e3619730",
   "metadata": {},
   "outputs": [
    {
     "name": "stdout",
     "output_type": "stream",
     "text": [
      "Please enter an integer number n between 0 and 9 : n=4\n",
      "Please enter another natural number: N = 12\n",
      "4 * 1 = 4\n",
      "4 * 2 = 8\n",
      "4 * 3 = 12\n",
      "4 * 4 = 16\n",
      "4 * 5 = 20\n",
      "4 * 6 = 24\n",
      "4 * 7 = 28\n",
      "4 * 8 = 32\n",
      "4 * 9 = 36\n",
      "4 * 10 = 40\n",
      "4 * 11 = 44\n",
      "4 * 12 = 48\n"
     ]
    }
   ],
   "source": [
    "n =int(input(\"Please enter an integer number n between 0 and 9 : n=\"))\n",
    "N = int(input(\"Please enter another natural number: N = \"))\n",
    "i=1\n",
    "while (i<=N):\n",
    "    print(n, '*', i, '=', n*i)\n",
    "    i+=1"
   ]
  },
  {
   "cell_type": "markdown",
   "id": "ee5cae44",
   "metadata": {},
   "source": [
    "11. Write a program that prints all the numbers between 0 and 40 that are multiples of 3, 7\n",
    "or 11."
   ]
  },
  {
   "cell_type": "code",
   "execution_count": 10,
   "id": "124896a7",
   "metadata": {},
   "outputs": [
    {
     "name": "stdout",
     "output_type": "stream",
     "text": [
      "All the numbers between 0 and 40 that are multiples of 3, 7 or 11 are:\n",
      "3\n",
      "6\n",
      "7\n",
      "9\n",
      "11\n",
      "12\n",
      "14\n",
      "15\n",
      "18\n",
      "21\n",
      "22\n",
      "24\n",
      "27\n",
      "28\n",
      "30\n",
      "33\n",
      "35\n",
      "36\n",
      "39\n"
     ]
    }
   ],
   "source": [
    "print('All the numbers between 0 and 40 that are multiples of 3, 7 or 11 are:')\n",
    "for n in range(1,40):\n",
    "    if(n%3==0 or n%7==0 or n%11==0):\n",
    "        print(n)"
   ]
  },
  {
   "cell_type": "markdown",
   "id": "6aa68ac3",
   "metadata": {},
   "source": [
    "12. Write python code that prints the floor of a float x. Recall that the floor of a float x is the largest integer value less than or equal to x, i.e. if E[x] is the floor of x , then it satisfies, E[x] = 1 + E[x − 1]"
   ]
  },
  {
   "cell_type": "code",
   "execution_count": 11,
   "id": "13f6ceb1",
   "metadata": {},
   "outputs": [
    {
     "name": "stdout",
     "output_type": "stream",
     "text": [
      "Enter a float: 5.6\n",
      "The floor of a float 5.6 is  5\n"
     ]
    }
   ],
   "source": [
    "x = float(input(\"Enter a float: \"))\n",
    "print(\"The floor of a float\", x, \"is \", int(x))"
   ]
  },
  {
   "cell_type": "markdown",
   "id": "b0f3bbbf",
   "metadata": {},
   "source": [
    "13. Given a point in the plane by its Cartesian coordinates, determine in which quadrant it is (1st, 2nd, 3rd, 4th), if it lies on an axis, or if it is the origin. Do this for several points in the same execution of the program until the user quits."
   ]
  },
  {
   "cell_type": "code",
   "execution_count": 12,
   "id": "3cdac276",
   "metadata": {},
   "outputs": [
    {
     "name": "stdout",
     "output_type": "stream",
     "text": [
      "Enter the point (x, y) or q to quit: (1,3)\n",
      "The point (1,3) is in the 1st quadrant\n",
      "Enter the point (x, y) or q to quit: (-1,2)\n",
      "The point (-1,2) is in the 4th quadrant\n",
      "Enter the point (x, y) or q to quit: q\n"
     ]
    }
   ],
   "source": [
    "while True:\n",
    "    point =input(\"Enter the point (x, y) or q to quit: \")\n",
    "    if point==\"q\":\n",
    "        break\n",
    "    x=int(point[1:point.index(\",\")])\n",
    "    y=int(point[point.index(\",\")+1: point.index(\")\")])\n",
    "    if (x>0) and (y>0):\n",
    "        print(\"The point {} is in the 1st quadrant\".format(point))\n",
    "    elif (x>0) and (y<0):\n",
    "        print(\"The point {} is in the 2nd quadrant\".format(point))\n",
    "    elif (x<0) and (y<0):    \n",
    "        print(\"The point {} is in the 3rd quadrant\".format(point))\n",
    "    elif (x<0) and (y>0):    \n",
    "        print(\"The point {} is in the 4th quadrant\".format(point))\n",
    "    elif ((x==0) and (y>0)) or ((x==0) and (y<0)):\n",
    "        print(\"The point {} is in the y axis\".format(point))\n",
    "    elif ((x>0) and (y==0)) or ((x<0) and (y==0)):\n",
    "        print(\"The point {} is in the x axis\".format(point))\n",
    "    elif (x==0) and (y==0):\n",
    "        print(\"The point {} is the origin\".format(point))"
   ]
  },
  {
   "cell_type": "markdown",
   "id": "505ba8a3",
   "metadata": {},
   "source": [
    "14. Ask for an integer number between 0 and 9, denoted x. Once the user has entered a correct\n",
    "number (that is one in the range [0..10)) the program asks for a second integer number\n",
    "between 0 and 255, denoted max. The program continues asking for the number until it\n",
    "is correct (that it is in the range [0..256)). When this is done, show all multiples of x that\n",
    "are between 0 and max. Then, ask the user whether he/she wants to continue; if in the\n",
    "affirmative, ask for another couple of numbers, otherwise finish."
   ]
  },
  {
   "cell_type": "code",
   "execution_count": 13,
   "id": "ed3b9813",
   "metadata": {},
   "outputs": [
    {
     "name": "stdout",
     "output_type": "stream",
     "text": [
      "Please enter an integer number between 0 and 9, x =6\n",
      "Please enter an integer number between 0 and 255, Max =142\n",
      "All multiples of 6 that are between 0 and 142 are : [6, 12, 18, 24, 30, 36, 42, 48, 54, 60, 66, 72, 78, 84, 90, 96, 102, 108, 114, 120, 126, 132, 138]\n",
      "Type Y to continue or N to stop : 5\n",
      "Finish\n"
     ]
    }
   ],
   "source": [
    "while True:\n",
    "    x= int(input('Please enter an integer number between 0 and 9, x ='))\n",
    "    if (x>=0) and (x<=9):\n",
    "        Max= int(input(\"Please enter an integer number between 0 and 255, Max =\"))\n",
    "        if (Max>=0) and (Max<=255):\n",
    "            l=[]\n",
    "            for i in range(1, Max+1):\n",
    "                if (i%x==0):\n",
    "                    l.append(i)\n",
    "            print('All multiples of', x, 'that are between 0 and', Max, 'are :', l)\n",
    "            dec= input(\"Type Y to continue or N to stop : \")\n",
    "            if (dec==\"Y\"):\n",
    "                print(\"Continue\")\n",
    "            else:\n",
    "                print(\"Finish\")\n",
    "                break"
   ]
  },
  {
   "cell_type": "code",
   "execution_count": null,
   "id": "922a5a2a",
   "metadata": {},
   "outputs": [],
   "source": []
  }
 ],
 "metadata": {
  "kernelspec": {
   "display_name": "Python 3 (ipykernel)",
   "language": "python",
   "name": "python3"
  },
  "language_info": {
   "codemirror_mode": {
    "name": "ipython",
    "version": 3
   },
   "file_extension": ".py",
   "mimetype": "text/x-python",
   "name": "python",
   "nbconvert_exporter": "python",
   "pygments_lexer": "ipython3",
   "version": "3.9.5"
  }
 },
 "nbformat": 4,
 "nbformat_minor": 5
}
