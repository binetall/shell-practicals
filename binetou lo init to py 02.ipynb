{
 "cells": [
  {
   "cell_type": "markdown",
   "id": "274407d4",
   "metadata": {},
   "source": [
    "## AISSATA DIOP"
   ]
  },
  {
   "cell_type": "markdown",
   "id": "062a9c46",
   "metadata": {},
   "source": [
    "## Functions & Recursions"
   ]
  },
  {
   "cell_type": "markdown",
   "id": "86871c49",
   "metadata": {},
   "source": [
    "1. Write a python script that asks the user for the values of x and y and uses these inputs to\n",
    "compute the numerical value of the expression"
   ]
  },
  {
   "cell_type": "code",
   "execution_count": 2,
   "id": "9ff363d6",
   "metadata": {},
   "outputs": [
    {
     "name": "stdout",
     "output_type": "stream",
     "text": [
      "donner une valeur a x 2\n",
      "donner une valeur a y 3\n",
      "la valeur numerique est 4.411696857356656\n"
     ]
    }
   ],
   "source": [
    "import math\n",
    "x=int(input('donner une valeur a x '))\n",
    "y=int(input('donner une valeur a y '))\n",
    "fonct=math.sqrt(x**(2+y))/((1%x)+2*math.sin(y))\n",
    "print('la valeur numerique est',fonct)"
   ]
  },
  {
   "cell_type": "markdown",
   "id": "73c3eae8",
   "metadata": {},
   "source": [
    "2. Write a function that given two integers b and n (n is positive), calculates b n without using\n",
    "python’s power operator. Name this function ownpowerfn.py.\n",
    "PS: What if we do not specify that n has to be positive?"
   ]
  },
  {
   "cell_type": "code",
   "execution_count": 4,
   "id": "15aa7fb3",
   "metadata": {},
   "outputs": [
    {
     "name": "stdout",
     "output_type": "stream",
     "text": [
      "donner une valeur a b 3\n",
      "donner une valeur positive a n 2\n",
      "la valeur de 3 puissance 2 est 9\n"
     ]
    }
   ],
   "source": [
    "def ownpowerfn():\n",
    "    b=int(input(\"donner une valeur a b \"))\n",
    "    n=int(input(\"donner une valeur positive a n \" ))\n",
    "    if(n>0):\n",
    "        i=1\n",
    "        g=b \n",
    "        while(i<n):\n",
    "            g=g*b\n",
    "            i=i+1\n",
    "        print('la valeur de',b,'puissance',n,'est',g)\n",
    "    else:\n",
    "        return\n",
    "ownpowerfn()    \n",
    "\n"
   ]
  },
  {
   "cell_type": "markdown",
   "id": "aa383cc5",
   "metadata": {},
   "source": [
    "3. Write functions that do the following:"
   ]
  },
  {
   "cell_type": "markdown",
   "id": "e4cd823d",
   "metadata": {},
   "source": [
    "a) Takes two arguments, and computes their arithmetic and geometric means. Name\n",
    "these functions arithmetic_mean and geometric_mean respectively"
   ]
  },
  {
   "cell_type": "code",
   "execution_count": 2,
   "id": "995f0a4d",
   "metadata": {},
   "outputs": [
    {
     "name": "stdout",
     "output_type": "stream",
     "text": [
      "the arithmetic_mean is 5.5\n"
     ]
    }
   ],
   "source": [
    "def arithmetic_mean(a,b):\n",
    "    m=(a+b)/2\n",
    "    print(\"the arithmetic_mean is\",m)\n",
    "    return\n",
    "arithmetic_mean(2,9)\n",
    "\n",
    "\n",
    "    \n",
    "\n",
    "\n"
   ]
  },
  {
   "cell_type": "code",
   "execution_count": 4,
   "id": "881a6ece",
   "metadata": {},
   "outputs": [
    {
     "name": "stdout",
     "output_type": "stream",
     "text": [
      "The geometric mean is  4.242640687119285\n"
     ]
    }
   ],
   "source": [
    "def geometric_mean(x, y):\n",
    "    g=(x*y)**(1/2)\n",
    "    print(\"The geometric mean is \", g)\n",
    "    return\n",
    "geometric_mean(2,9)"
   ]
  },
  {
   "cell_type": "markdown",
   "id": "0f5f1163",
   "metadata": {},
   "source": [
    "b) Converts degree Celsius to Fahrenheit and vice versa. Name these two functions celsius_to_fahrenheit and fahrenheit_to_celsius respectively."
   ]
  },
  {
   "cell_type": "code",
   "execution_count": 5,
   "id": "fc68ff90",
   "metadata": {},
   "outputs": [
    {
     "name": "stdout",
     "output_type": "stream",
     "text": [
      "30 Celsius equal to  86.0 Fahrenheit\n"
     ]
    }
   ],
   "source": [
    "def celsius_to_fahrenheit(x):\n",
    "    y=(9/5)*x + 32\n",
    "    print(x, \"Celsius equal to \", y, \"Fahrenheit\")\n",
    "    return\n",
    "celsius_to_fahrenheit(30)"
   ]
  },
  {
   "cell_type": "code",
   "execution_count": 6,
   "id": "3a22682b",
   "metadata": {},
   "outputs": [
    {
     "name": "stdout",
     "output_type": "stream",
     "text": [
      "86 Fahrenheit equal to  30.0 Celsius\n"
     ]
    }
   ],
   "source": [
    "def fahrenheit_to_celsius(x):\n",
    "    y=(5/9)*(x-32)\n",
    "    print(x, \"Fahrenheit equal to \", y, \"Celsius\")\n",
    "    return\n",
    "fahrenheit_to_celsius(86)"
   ]
  },
  {
   "cell_type": "markdown",
   "id": "14ac0101",
   "metadata": {},
   "source": [
    "c) Converts angle in degrees to radians and vice versa. Name these two functions degrees_to_radians and radians_to_degrees respectively.\n",
    "\n",
    "import math"
   ]
  },
  {
   "cell_type": "code",
   "execution_count": 7,
   "id": "05e3bec3",
   "metadata": {},
   "outputs": [
    {
     "name": "stdout",
     "output_type": "stream",
     "text": [
      "240 degrees equal to  4.1887902047863905 radians\n"
     ]
    }
   ],
   "source": [
    "import math\n",
    "def degrees_to_radians(x):\n",
    "    y=(x*math.pi)/180\n",
    "    print(x, \"degrees equal to \", y, \"radians\")\n",
    "    return\n",
    "degrees_to_radians(240)"
   ]
  },
  {
   "cell_type": "code",
   "execution_count": 8,
   "id": "0d075483",
   "metadata": {},
   "outputs": [
    {
     "name": "stdout",
     "output_type": "stream",
     "text": [
      "4.19 radians equal to  240.06931615981495 degrees\n"
     ]
    }
   ],
   "source": [
    "import math\n",
    "\n",
    "def radians_to_degrees(x):\n",
    "\n",
    "    y=(180*x)/math.pi\n",
    "\n",
    "    print(x, \"radians equal to \", y, \"degrees\")\n",
    "\n",
    "    return\n",
    "\n",
    "radians_to_degrees(4.19)\n",
    "\n"
   ]
  },
  {
   "cell_type": "markdown",
   "id": "d7c79158",
   "metadata": {},
   "source": [
    "d) Computes the circumference and the area of a circle given the radius."
   ]
  },
  {
   "cell_type": "code",
   "execution_count": 10,
   "id": "8e4c1c6c",
   "metadata": {},
   "outputs": [
    {
     "name": "stdout",
     "output_type": "stream",
     "text": [
      "The circumference of a circle of radius r = 5 is p = 31.41592653589793\n"
     ]
    }
   ],
   "source": [
    "import math\n",
    "def circumference(r):\n",
    "    p=2*math.pi*r\n",
    "    print(\"The circumference of a circle of radius r =\", r, \"is p =\", p)\n",
    "    return\n",
    "circumference(5)"
   ]
  },
  {
   "cell_type": "code",
   "execution_count": 11,
   "id": "96a5ee7f",
   "metadata": {},
   "outputs": [
    {
     "name": "stdout",
     "output_type": "stream",
     "text": [
      "The area of a circle of radius r = 5 is A = 78.53981633974483\n"
     ]
    }
   ],
   "source": [
    "import math \n",
    "def area(r):\n",
    "    A=math.pi*r**2\n",
    "    print(\"The area of a circle of radius r =\", r, \"is A =\", A)\n",
    "    return \n",
    "area(5)"
   ]
  },
  {
   "cell_type": "markdown",
   "id": "2de44e4f",
   "metadata": {},
   "source": [
    "4-Write functions that do the following:"
   ]
  },
  {
   "cell_type": "markdown",
   "id": "22ca6677",
   "metadata": {},
   "source": [
    "a) Given two numbers, compute their average and geometrical mean and prints them."
   ]
  },
  {
   "cell_type": "code",
   "execution_count": 12,
   "id": "73bfd0e6",
   "metadata": {},
   "outputs": [
    {
     "name": "stdout",
     "output_type": "stream",
     "text": [
      "The average mean is  4.0\n",
      "The geometrical mean is  3.4641016151377544\n"
     ]
    }
   ],
   "source": [
    "def av_geo(x, y):\n",
    "    m=(x+y)/2\n",
    "    print(\"The average mean is \", m)\n",
    "    g=(x*y)**(1/2)\n",
    "    print(\"The geometrical mean is \", g)\n",
    "    return\n",
    "av_geo(6,2)"
   ]
  },
  {
   "cell_type": "markdown",
   "id": "a49b4c14",
   "metadata": {},
   "source": [
    "(i) Now write a program that performs this process 10 times, taking as input the means computed in the previous step. Name this function avggeom .\n"
   ]
  },
  {
   "cell_type": "code",
   "execution_count": 13,
   "id": "bb5a55e2",
   "metadata": {},
   "outputs": [
    {
     "name": "stdout",
     "output_type": "stream",
     "text": [
      "enter x : 2\n",
      "enter y : 6\n",
      "4.0 3.4641016151377544\n",
      "3.732050807568877 3.7224194364083982\n",
      "3.7272351219886377 3.7272320109912727\n",
      "3.7272335664899554 3.7272335664896303\n",
      "3.727233566489793 3.727233566489793\n",
      "3.727233566489793 3.727233566489793\n",
      "3.727233566489793 3.727233566489793\n",
      "3.727233566489793 3.727233566489793\n",
      "3.727233566489793 3.727233566489793\n",
      "3.727233566489793 3.727233566489793\n"
     ]
    }
   ],
   "source": [
    "x=float(input(\"enter x : \"))\n",
    "y=float(input(\"enter y : \"))\n",
    "def average(x, y):\n",
    "    a=(x+y)/2\n",
    "    return a\n",
    "def geo_mean(x,y):\n",
    "    g=(x*y)**(1/2)\n",
    "    return g\n",
    "def avggeom(x, y):\n",
    "    print(average(x,y), geo_mean(x,y))\n",
    "    return average(x,y), geo_mean(x,y)\n",
    "n=(x,y)\n",
    "for i in range(0, 10):\n",
    "    t=n\n",
    "    n=avggeom(t[0],t[1])\n"
   ]
  },
  {
   "cell_type": "markdown",
   "id": "8af9d6ad",
   "metadata": {},
   "source": [
    "b) Write a function that computes the distance between two points in the plane. Use it in another program that computes the perimeter and the area of a triangle, given three points in the plane. Name this function distancefn.\n"
   ]
  },
  {
   "cell_type": "code",
   "execution_count": 1,
   "id": "c4bb5f3f",
   "metadata": {},
   "outputs": [
    {
     "name": "stdout",
     "output_type": "stream",
     "text": [
      "The distance between ( 1 , -2 ) and ( 2 , 6 ) is  8.06225774829855\n"
     ]
    }
   ],
   "source": [
    "import math\n",
    "def distance(x1,x2,y1,y2):\n",
    "    d=math.sqrt((x2-x1)**2+(y2-y1)**2)\n",
    "    print(\"The distance between (\",x1, \",\", y1, \") and (\",x2, \",\", y2, \") is \", d)\n",
    "    return\n",
    "distance(1,2,-2,6)"
   ]
  },
  {
   "cell_type": "code",
   "execution_count": 2,
   "id": "dd1a8a60",
   "metadata": {},
   "outputs": [
    {
     "name": "stdout",
     "output_type": "stream",
     "text": [
      "The perimeter of the triangle is  8.06449510224598\n",
      "The area of the triangle is  2.9999999999999996\n"
     ]
    }
   ],
   "source": [
    "import math\n",
    "\n",
    "def distance(x1,x2,y1,y2):\n",
    "\n",
    "    d=math.sqrt((x2-x1)**2+(y2-y1)**2)\n",
    "\n",
    "    return d\n",
    "\n",
    "def distancefn(x1,x2,x3,y1,y2,y3):\n",
    "\n",
    "    p=distance(x1,x2,y1,y2) + distance(x2,x3,y2,y3) + distance(x1,x3,y1,y3)\n",
    "\n",
    "    A=math.sqrt((p/2)*(p/2 -distance(x1,x2,y1,y2))*(p/2 -distance(x2,x3,y2,y3))*(p/2 - distance(x1,x3,y1,y3)))\n",
    "\n",
    "    print(\"The perimeter of the triangle is \", p)\n",
    "\n",
    "    print(\"The area of the triangle is \", A)\n",
    "\n",
    "    return \n",
    "\n",
    "distancefn(2,0,-1,0,2,0)\n",
    "\n"
   ]
  },
  {
   "cell_type": "code",
   "execution_count": 4,
   "id": "2781defd",
   "metadata": {},
   "outputs": [
    {
     "name": "stdout",
     "output_type": "stream",
     "text": [
      "Please enter A if you want Evaluation of factorial or B for Evaluation of Second degree equation or C for quit : A\n",
      "Please enter the value n which you want evaluate its factorial : 9\n",
      "The factorial of  9 is 362880\n",
      "Please enter A if you want Evaluation of factorial or B for Evaluation of Second degree equation or C for quit : B\n",
      "Please enter the value of a as ax^2+bx+c=0 : 4\n",
      "Please enter the value of b as ax^2+bx+c=0 : 2\n",
      "Please enter the value of c as ax^2+bx+c=0 : 3\n",
      "The solution is x_1 =  -0.25  -j 0.82915619758885  and x_2 =  -0.25  +j 0.82915619758885 , where j^2=-1.\n",
      "Please enter A if you want Evaluation of factorial or B for Evaluation of Second degree equation or C for quit : C\n",
      "Bye Bye!\n"
     ]
    }
   ],
   "source": [
    "import math\n",
    "def factorial(n):\n",
    "    if n == 0:\n",
    "        return 1\n",
    "    else:\n",
    "        return n * factorial(n-1)\n",
    "def seconddeg(a,b,c):\n",
    "    delta=b**2-4*a*c\n",
    "    if delta==0:\n",
    "        return print(\"The solution is x_0 = \", -b/(2*a))\n",
    "    elif delta > 0:\n",
    "        return print(\"The solution is x_1 = \", (-b-math.sqrt(delta))/(2*a), \"and x_2 = \", (-b+math.sqrt(delta))/(2*a) )\n",
    "    else:\n",
    "        return print(\"The solution is x_1 = \", -b/(2*a), \" -j\",(math.sqrt(-delta))/(2*a),\" and x_2 = \", -b/(2*a), \" +j\",(math.sqrt(-delta))/(2*a),\", where j^2=-1.\")  \n",
    "def fact2nddeg():\n",
    "    while True:\n",
    "        y=input(\"Please enter A if you want Evaluation of factorial or B for Evaluation of Second degree equation or C for quit : \")\n",
    "        if (y==\"A\"):\n",
    "            n=int(input(\"Please enter the value n which you want evaluate its factorial : \"))\n",
    "            print(\"The factorial of \", n, \"is\", factorial(n))\n",
    "        elif (y==\"B\"):\n",
    "            a=float(input(\"Please enter the value of a as ax^2+bx+c=0 : \"))\n",
    "            b=float(input(\"Please enter the value of b as ax^2+bx+c=0 : \"))\n",
    "            c=float(input(\"Please enter the value of c as ax^2+bx+c=0 : \"))\n",
    "            seconddeg(a,b,c)\n",
    "        else:\n",
    "            print(\"Bye Bye!\")\n",
    "            break\n",
    "fact2nddeg()        "
   ]
  },
  {
   "cell_type": "code",
   "execution_count": 5,
   "id": "f0003eb7",
   "metadata": {},
   "outputs": [
    {
     "data": {
      "text/plain": [
       "-64"
      ]
     },
     "execution_count": 5,
     "metadata": {},
     "output_type": "execute_result"
    }
   ],
   "source": [
    "def power(x, n):\n",
    "    i=1\n",
    "    if (n==0):\n",
    "        return 1\n",
    "    if (n>0):\n",
    "        for j in range(abs(n)):\n",
    "            i=i*x\n",
    "        return i\n",
    "    else:\n",
    "        return 1/i\n",
    "power(-4,3)    \n",
    "    "
   ]
  },
  {
   "cell_type": "code",
   "execution_count": 7,
   "id": "2ebcb8ea",
   "metadata": {},
   "outputs": [
    {
     "name": "stdout",
     "output_type": "stream",
     "text": [
      "Please enter the number of terms : 12\n",
      "The Fibonacci sequence upto 12 is :\n",
      "0\n",
      "1\n",
      "1\n",
      "2\n",
      "3\n",
      "5\n",
      "8\n",
      "13\n",
      "21\n",
      "34\n",
      "55\n",
      "89\n"
     ]
    }
   ],
   "source": [
    "def Fib():\n",
    "    n= int(input(\"Please enter the number of terms : \"))\n",
    "    n1, n2 = 0, 1\n",
    "    i = 0 \n",
    "    if n <= 0:\n",
    "        print(\"Please enter a positive integer\")\n",
    "    elif n == 1:\n",
    "        print(\"The Fibonacci sequence upto\", n, \"is :\")\n",
    "        print(n1)\n",
    "    else:\n",
    "        print(\"The Fibonacci sequence upto\", n, \"is :\")\n",
    "        while i < n:\n",
    "            print(n1)\n",
    "            nth = n1 + n2\n",
    "            n1 = n2\n",
    "            n2 = nth\n",
    "            i += 1\n",
    "        return\n",
    "Fib()    "
   ]
  },
  {
   "cell_type": "code",
   "execution_count": null,
   "id": "1f93cf71",
   "metadata": {},
   "outputs": [],
   "source": []
  },
  {
   "cell_type": "code",
   "execution_count": null,
   "id": "c5d19016",
   "metadata": {},
   "outputs": [],
   "source": []
  }
 ],
 "metadata": {
  "kernelspec": {
   "display_name": "Python 3 (ipykernel)",
   "language": "python",
   "name": "python3"
  },
  "language_info": {
   "codemirror_mode": {
    "name": "ipython",
    "version": 3
   },
   "file_extension": ".py",
   "mimetype": "text/x-python",
   "name": "python",
   "nbconvert_exporter": "python",
   "pygments_lexer": "ipython3",
   "version": "3.9.5"
  }
 },
 "nbformat": 4,
 "nbformat_minor": 5
}
